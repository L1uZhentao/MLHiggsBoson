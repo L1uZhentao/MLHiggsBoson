{
 "cells": [
  {
   "cell_type": "code",
   "execution_count": null,
   "metadata": {
    "collapsed": false,
    "pycharm": {
     "name": "#%%\n"
    }
   },
   "outputs": [],
   "source": [
    "import numpy as np\n",
    "import seaborn as sns\n",
    "import os\n",
    "from matplotlib import pyplot"
   ]
  },
  {
   "cell_type": "code",
   "execution_count": null,
   "metadata": {
    "collapsed": false,
    "pycharm": {
     "name": "#%%\n"
    }
   },
   "outputs": [],
   "source": [
    "files = os.listdir(\"./predictions/\")\n",
    "model_names = sorted([f[:-4] for f in files])  # Remove the .csv from filenames"
   ]
  },
  {
   "cell_type": "code",
   "execution_count": null,
   "metadata": {
    "collapsed": false,
    "pycharm": {
     "name": "#%%\n"
    }
   },
   "outputs": [],
   "source": [
    "model_preds = {}\n",
    "for mn in model_names:\n",
    "    with open(\"./predictions/\" + mn + \".csv\", \"r\") as f:\n",
    "        predictions = {}\n",
    "        for i, line in enumerate(f):\n",
    "            if i == 0:\n",
    "                continue\n",
    "            id, pred = int(line.split(\",\")[0]), int(line.split(\",\")[1])\n",
    "            predictions[id] = pred\n",
    "    model_preds[mn] = predictions"
   ]
  },
  {
   "cell_type": "code",
   "execution_count": null,
   "metadata": {},
   "outputs": [],
   "source": [
    "def get_agreement(preds_a, preds_b):\n",
    "    count = 0\n",
    "    total_count = 0\n",
    "    for i in preds_a:\n",
    "        total_count += 1\n",
    "        if preds_a[i] == preds_b[i]:\n",
    "            count += 1\n",
    "    return count / total_count"
   ]
  },
  {
   "cell_type": "code",
   "execution_count": null,
   "metadata": {
    "collapsed": false,
    "pycharm": {
     "name": "#%%\n"
    }
   },
   "outputs": [],
   "source": [
    "agreement_matrix = np.empty((len(model_names), len(model_names)))\n",
    "agreement_matrix[:] = np.nan"
   ]
  },
  {
   "cell_type": "code",
   "execution_count": null,
   "metadata": {
    "collapsed": false,
    "pycharm": {
     "name": "#%%\n"
    }
   },
   "outputs": [],
   "source": [
    "for i, mni in enumerate(model_names):\n",
    "    for j, mnj in enumerate(model_names):\n",
    "        if j > i:\n",
    "            continue\n",
    "        agreement = get_agreement(model_preds[mni], model_preds[mnj])\n",
    "        agreement_matrix[i, j] = agreement\n",
    "        agreement_matrix[j, i] = agreement\n",
    "agreement_matrix"
   ]
  },
  {
   "cell_type": "code",
   "execution_count": null,
   "metadata": {
    "collapsed": false,
    "pycharm": {
     "name": "#%%\n"
    }
   },
   "outputs": [],
   "source": [
    "pyplot.figure(figsize=(11, 8))\n",
    "sns.heatmap(\n",
    "    agreement_matrix,\n",
    "    mask=np.triu(np.ones_like(agreement_matrix, dtype=bool)),\n",
    "    xticklabels=model_names,\n",
    "    yticklabels=model_names,\n",
    "    annot=True,\n",
    "    cmap=sns.diverging_palette(240, 10, as_cmap=True),\n",
    ")"
   ]
  }
 ],
 "metadata": {
  "kernelspec": {
   "display_name": "Python 3.10.4 64-bit",
   "language": "python",
   "name": "python3"
  },
  "language_info": {
   "codemirror_mode": {
    "name": "ipython",
    "version": 3
   },
   "file_extension": ".py",
   "mimetype": "text/x-python",
   "name": "python",
   "nbconvert_exporter": "python",
   "pygments_lexer": "ipython3",
   "version": "3.10.4"
  },
  "vscode": {
   "interpreter": {
    "hash": "37083a178839ddb6837eca99e3841ef7be6dad5dc50c6d19829e2187d61ddd5d"
   }
  }
 },
 "nbformat": 4,
 "nbformat_minor": 0
}
